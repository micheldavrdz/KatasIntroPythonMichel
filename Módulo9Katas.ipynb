{
  "cells": [
    {
      "cell_type": "markdown",
      "metadata": {},
      "source": [
        "# Ejercicio: Uso de funciones en Python"
      ]
    },
    {
      "cell_type": "markdown",
      "metadata": {},
      "source": [
        "### Ejercicio 1: Trabajar con argumentos en funciones\n",
        "\n",
        "Los argumentos requeridos en las funciones se utilizan cuando las funciones necesitan que esos argumentos funcionen correctamente. En este ejercicio, construirás un informe de combustible que requiere información de varias ubicaciones de combustible en todo el cohete.\n",
        "\n"
      ]
    },
    {
      "cell_type": "markdown",
      "metadata": {},
      "source": [
        "> **TIP**\n",
        "> Dedica unos minutos para tratar de encontrar una solución. Luego desplázate hacia abajo hasta la parte inferior para ver si has logrado compilar el programa de acuerdo con las especificaciones\n",
        "\n",
        "Comienza por crear una función que necesite tres lecturas de combustible y devuelva un informe:"
      ]
    },
    {
      "cell_type": "code",
      "execution_count": 136,
      "metadata": {},
      "outputs": [],
      "source": [
        "def fuel_report(tank_1, tank_2, tank_3):\n",
        "    avg = (tank_1 + tank_2 + tank_3) / 3\n",
        "    return f\"\"\"\n",
        "    Fuel Report:\n",
        "\n",
        "    Average Fuel Level: {round(avg,1)}%\n",
        "\n",
        "    Fuel % breakdown:\n",
        "    Fuel in Tank 1: {tank_1}%\n",
        "    Fuel in Tank 2: {tank_2}%\n",
        "    Fuel in Tank 3: {tank_3}%\n",
        "    \"\"\""
      ]
    },
    {
      "cell_type": "markdown",
      "metadata": {},
      "source": [
        "Ahora que hemos definido la función de informes, vamos a comprobarlo. Para esta misión, los tanques no están llenos:"
      ]
    },
    {
      "cell_type": "code",
      "execution_count": 137,
      "metadata": {},
      "outputs": [
        {
          "name": "stdout",
          "output_type": "stream",
          "text": [
            "\n",
            "    Fuel Report:\n",
            "\n",
            "    Average Fuel Level: 46.7%\n",
            "\n",
            "    Fuel % breakdown:\n",
            "    Fuel in Tank 1: 50%\n",
            "    Fuel in Tank 2: 20%\n",
            "    Fuel in Tank 3: 70%\n",
            "    \n"
          ]
        }
      ],
      "source": [
        "print(fuel_report(50, 20, 70))"
      ]
    },
    {
      "cell_type": "markdown",
      "metadata": {},
      "source": [
        "En lugar de simplemente crear el informe, la función también está calculando el promedio. Mejora la legibilidad extrayendo el cálculo promedio de la función en una nueva función para que el promedio se pueda hacer de forma independiente:"
      ]
    },
    {
      "cell_type": "code",
      "execution_count": 138,
      "metadata": {},
      "outputs": [],
      "source": [
        "def fuel_avg(values):\n",
        "    fuel_total = sum(values)\n",
        "    fuel_avg = fuel_total / len(values)\n",
        "    return fuel_avg"
      ]
    },
    {
      "cell_type": "markdown",
      "metadata": {},
      "source": [
        "Ahora actualiza la función de informes para llamando a la nueva función del promedio:\n"
      ]
    },
    {
      "cell_type": "code",
      "execution_count": 139,
      "metadata": {},
      "outputs": [
        {
          "name": "stdout",
          "output_type": "stream",
          "text": [
            "\n",
            "    Fuel Report:\n",
            "\n",
            "    Average Fuel Level: 46.7%\n",
            "\n",
            "    Fuel % breakdown:\n",
            "    Fuel in Tank 1: 50%\n",
            "    Fuel in Tank 2: 20%\n",
            "    Fuel in Tank 3: 70%\n",
            "    \n"
          ]
        }
      ],
      "source": [
        "def fuel_report(tank_1, tank_2, tank_3):\n",
        "    return f\"\"\"\n",
        "    Fuel Report:\n",
        "\n",
        "    Average Fuel Level: {round(fuel_avg([tank_1, tank_2, tank_3]),1)}%\n",
        "\n",
        "    Fuel % breakdown:\n",
        "    Fuel in Tank 1: {tank_1}%\n",
        "    Fuel in Tank 2: {tank_2}%\n",
        "    Fuel in Tank 3: {tank_3}%\n",
        "    \"\"\"\n",
        "\n",
        "print(fuel_report(50, 20, 70))"
      ]
    },
    {
      "cell_type": "markdown",
      "metadata": {},
      "source": [
        "> Recuerda: Lo importante es intentarlo, puedes auxiliarte de internet, libros, etc. El objetivo de una kata es la comprobación de la comprensión de la lección y su aplicación inmediata a la resolución de problemas. Go for it!"
      ]
    },
    {
      "cell_type": "markdown",
      "metadata": {},
      "source": [
        "## Ejercicio 2: Trabajo con argumentos de palabra clave"
      ]
    },
    {
      "cell_type": "markdown",
      "metadata": {},
      "source": [
        "### Ejercicio : Trabajar con argumentos de palabras clave en funciones\n",
        "En este ejercicio, construirás un informe de cohete que requiere varias piezas de información, como el tiempo hasta el destino, el combustible a la izquierda y el nombre del destino. Comienza por crear una función que creará un informe preciso de la misión:"
      ]
    },
    {
      "cell_type": "code",
      "execution_count": 140,
      "metadata": {},
      "outputs": [
        {
          "name": "stdout",
          "output_type": "stream",
          "text": [
            "\n",
            "    Mission Report:\n",
            "\n",
            "    Launch Date: 30/06/2022\n",
            "    Estimated total time from now: 17 hours\n",
            "    Destination: Moon\n",
            "    Number of passengers: 4\n",
            "    Total fuel needed: 1410000 liters\n",
            "    \n"
          ]
        }
      ],
      "source": [
        "def mission_report(launch_date, time_til_launch, est_flight_time, destination, passengers, main_fuel, ext_fuel):\n",
        "    return f\"\"\"\n",
        "    Mission Report:\n",
        "\n",
        "    Launch Date: {launch_date}\n",
        "    Estimated total time from now: {time_til_launch + est_flight_time} hours\n",
        "    Destination: {destination}\n",
        "    Number of passengers: {passengers}\n",
        "    Total fuel needed: {main_fuel + ext_fuel} liters\n",
        "    \"\"\"\n",
        "\n",
        "print(mission_report(\"30/06/2022\", 14, 3, \"Moon\", 4, 560000, 850000))"
      ]
    },
    {
      "cell_type": "markdown",
      "metadata": {},
      "source": [
        "La función es problemática porque no se puede adaptar para minutos adicionales o tanques adicionales de combustible. Hazlo más flexible permitiendo cualquier número de pasos basados en el tiempo y cualquier número de tanques. En lugar de usar `*args` y `**kwargs`, aprovecha el hecho de que puedes usar cualquier nombre que desees. Asegurate que la función sea más legible mediante el uso de nombres de variables que están asociados con las entradas, como `*minutes` y `**fuel_reservoirs`:"
      ]
    },
    {
      "cell_type": "code",
      "execution_count": 141,
      "metadata": {},
      "outputs": [
        {
          "name": "stdout",
          "output_type": "stream",
          "text": [
            "\n",
            "    Mission Report:\n",
            "\n",
            "    Launch Date: 30/06/2022\n",
            "    Estimated total time from now: 17 hours\n",
            "    Destination: Moon\n",
            "    Number of passengers: 4\n",
            "    Total fuel needed: 1410000 liters\n",
            "    \n"
          ]
        }
      ],
      "source": [
        "def mission_report(launch_date, destination, passengers, *hours, **fuel_reservoirs):\n",
        "    return f\"\"\"\n",
        "    Mission Report:\n",
        "\n",
        "    Launch Date: {launch_date}\n",
        "    Estimated total time from now: {sum(hours)} hours\n",
        "    Destination: {destination}\n",
        "    Number of passengers: {passengers}\n",
        "    Total fuel needed: {sum(fuel_reservoirs.values())} liters\n",
        "    \"\"\"\n",
        "\n",
        "print(mission_report(\"30/06/2022\", \"Moon\", 4, 14, 3, Main=560000, External=850000))"
      ]
    },
    {
      "cell_type": "markdown",
      "metadata": {},
      "source": [
        "Debido a que el combustible que queda en los tanques es específico de cada tanque, actualiza la función para usar el nombre de cada tanque en el informe:"
      ]
    },
    {
      "cell_type": "code",
      "execution_count": 144,
      "metadata": {},
      "outputs": [
        {
          "name": "stdout",
          "output_type": "stream",
          "text": [
            "\n",
            "    Mission Report:\n",
            "\n",
            "    Launch Date: 30/06/2022\n",
            "    Estimated total time from now: 17 hours\n",
            "    Destination: Moon\n",
            "    Number of passengers: 4\n",
            "    Total fuel needed: 1410000 liters\n",
            "\n",
            "    Extended fuel Report:\n",
            "\n",
            "    Main tank has 560000 liters left\n",
            "External tank has 850000 liters left\n",
            "\n"
          ]
        }
      ],
      "source": [
        "def mission_report(launch_date, destination, passengers, *hours, **fuel_reservoirs):\n",
        "    launch_report = f\"\"\"\n",
        "    Mission Report:\n",
        "\n",
        "    Launch Date: {launch_date}\n",
        "    Estimated total time from now: {sum(hours)} hours\n",
        "    Destination: {destination}\n",
        "    Number of passengers: {passengers}\n",
        "    Total fuel needed: {sum(fuel_reservoirs.values())} liters\n",
        "\n",
        "    Extended fuel Report:\n",
        "\n",
        "    \"\"\"\n",
        "\n",
        "    for tank_type, liters in fuel_reservoirs.items():\n",
        "        launch_report+= f\"{tank_type} tank has {liters} liters left\\n\"\n",
        "    return launch_report\n",
        "\n",
        "print(mission_report(\"30/06/2022\", \"Moon\", 4, 14, 3, Main=560000, External=850000))"
      ]
    },
    {
      "cell_type": "markdown",
      "metadata": {},
      "source": [
        "## Soluciones"
      ]
    },
    {
      "cell_type": "markdown",
      "metadata": {},
      "source": [
        "## Ejercicio 1"
      ]
    },
    {
      "cell_type": "code",
      "execution_count": null,
      "metadata": {},
      "outputs": [],
      "source": [
        "# Función para leer 3 tanques de combustible y muestre el promedio\n",
        "\n",
        "def generate_report(main_tank, external_tank, hydrogen_tank):\n",
        "    total_average = (main_tank + external_tank + hydrogen_tank) / 3\n",
        "    return f\"\"\"Fuel Report:\n",
        "    Total Average: {total_average}%\n",
        "    Main tank: {main_tank}%\n",
        "    External tank: {external_tank}%\n",
        "    Hydrogen tank: {hydrogen_tank}% \n",
        "    \"\"\"\n"
      ]
    },
    {
      "cell_type": "code",
      "execution_count": null,
      "metadata": {},
      "outputs": [],
      "source": [
        "# Llamamos a la función que genera el reporte print(funcion(tanque1, tanque2, tanque3))\n",
        "print(generate_report(80, 70, 85))"
      ]
    },
    {
      "cell_type": "code",
      "execution_count": null,
      "metadata": {},
      "outputs": [],
      "source": [
        "# Función promedio \n",
        "def average(values):\n",
        "    total = sum(values)\n",
        "    number_of_items = len(values)\n",
        "    return total / number_of_items\n",
        "\n",
        "# Test the averaging function with a list of integers:\n",
        "average([80, 85, 81]) "
      ]
    },
    {
      "cell_type": "code",
      "execution_count": null,
      "metadata": {},
      "outputs": [],
      "source": [
        "# Actualiza la función\n",
        "def generate_report(main_tank, external_tank, hydrogen_tank):\n",
        "    return f\"\"\"Fuel Report:\n",
        "    Total Average: {average([main_tank, external_tank, hydrogen_tank])}%\n",
        "    Main tank: {main_tank}%\n",
        "    External tank: {external_tank}%\n",
        "    Hydrogen tank: {hydrogen_tank}% \n",
        "    \"\"\"\n",
        "\n",
        "# Call the updated function again with different values\n",
        "print(generate_report(88, 76, 70))"
      ]
    },
    {
      "cell_type": "markdown",
      "metadata": {},
      "source": [
        "### Ejercicio 2:"
      ]
    },
    {
      "cell_type": "code",
      "execution_count": 49,
      "metadata": {},
      "outputs": [
        {
          "name": "stdout",
          "output_type": "stream",
          "text": [
            "\n",
            "    Mission to Moon\n",
            "    Total travel time: 65 minutes\n",
            "    Total fuel left: 500000 gallons\n",
            "    \n"
          ]
        }
      ],
      "source": [
        "# Función con un informe preciso de la misión. Considera hora de prelanzamiento, tiempo de vuelo, destino, tanque externo y tanque interno\n",
        "\n",
        "def mission_report(pre_launch_time, flight_time, destination, external_tank, main_tank):\n",
        "    return f\"\"\"\n",
        "    Mission to {destination}\n",
        "    Total travel time: {pre_launch_time + flight_time} minutes\n",
        "    Total fuel left: {external_tank + main_tank} gallons\n",
        "    \"\"\"\n",
        "\n",
        "print(mission_report(14, 51, \"Moon\", 200000, 300000))"
      ]
    },
    {
      "cell_type": "code",
      "execution_count": 50,
      "metadata": {},
      "outputs": [
        {
          "name": "stdout",
          "output_type": "stream",
          "text": [
            "\n",
            "    Mission to Moon\n",
            "    Total travel time: 76 minutes\n",
            "    Total fuel left: 500000\n",
            "    \n"
          ]
        }
      ],
      "source": [
        "# Escribe tu nueva función de reporte considerando lo anterior\n",
        "\n",
        "def mission_report(destination, *minutes, **fuel_reservoirs):\n",
        "    return f\"\"\"\n",
        "    Mission to {destination}\n",
        "    Total travel time: {sum(minutes)} minutes\n",
        "    Total fuel left: {sum(fuel_reservoirs.values())}\n",
        "    \"\"\"\n",
        "\n",
        "print(mission_report(\"Moon\", 10, 15, 51, main=300000, external=200000))"
      ]
    },
    {
      "cell_type": "code",
      "execution_count": 67,
      "metadata": {},
      "outputs": [
        {
          "name": "stdout",
          "output_type": "stream",
          "text": [
            "\n",
            "    Mission to Moon\n",
            "    Total travel time: 74 minutes\n",
            "    Total fuel left: 500000\n",
            "    main tank --> 300000 gallons left\n",
            "external tank --> 200000 gallons left\n",
            "\n"
          ]
        }
      ],
      "source": [
        "# Escribe tu nueva función\n",
        "\n",
        "def mission_report(destination, *minutes, **fuel_reservoirs):\n",
        "    main_report = f\"\"\"\n",
        "    Mission to {destination}\n",
        "    Total travel time: {sum(minutes)} minutes\n",
        "    Total fuel left: {sum(fuel_reservoirs.values())}\n",
        "    \"\"\"\n",
        "    for tank_name, gallons in fuel_reservoirs.items():\n",
        "        main_report += f\"{tank_name} tank --> {gallons} gallons left\\n\"\n",
        "    return main_report\n",
        "\n",
        "print(mission_report(\"Moon\", 8, 11, 55, main=300000, external=200000))"
      ]
    },
    {
      "cell_type": "markdown",
      "metadata": {},
      "source": [
        "---\n",
        "\n",
        "Curso Propedútico de Python para Launch X - Innovacción Virtual.\n",
        "\n",
        "Material desarrollado con base en los contenidos de MSLearn y la metáfora de LaunchX, traducción e implementación por: Fernanda Ochoa - Learning Producer de LaunchX.\n",
        "\n",
        "Redes:\n",
        "* GitHub: [FernandaOchoa](https://github.com/FernandaOchoa)\n",
        "* Twitter: [@imonsh](https://twitter.com/imonsh)\n",
        "* Instagram: [fherz8a](https://www.instagram.com/fherz8a/)"
      ]
    }
  ],
  "metadata": {
    "interpreter": {
      "hash": "205095b8b86ea82a021a8fc2ffba2b3bc9f8d0be25999901963b225939f75778"
    },
    "kernelspec": {
      "display_name": "Python 3.8.10 64-bit ('tmp': conda)",
      "name": "python3"
    },
    "language_info": {
      "codemirror_mode": {
        "name": "ipython",
        "version": 3
      },
      "file_extension": ".py",
      "mimetype": "text/x-python",
      "name": "python",
      "nbconvert_exporter": "python",
      "pygments_lexer": "ipython3",
      "version": "3.10.2"
    },
    "nteract": {
      "version": "nteract-front-end@1.0.0"
    },
    "orig_nbformat": 4
  },
  "nbformat": 4,
  "nbformat_minor": 2
}
